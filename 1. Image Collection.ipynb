{
 "cells": [
  {
   "cell_type": "markdown",
   "metadata": {},
   "source": [
    "# 1. Import Dependencies"
   ]
  },
  {
   "cell_type": "code",
   "execution_count": 1,
   "metadata": {},
   "outputs": [
    {
     "name": "stdout",
     "output_type": "stream",
     "text": [
      "Requirement already satisfied: opencv-python in d:\\ai\\object detection\\tfodcourse\\objectdet1\\lib\\site-packages (4.6.0.66)\n",
      "Requirement already satisfied: numpy>=1.14.5 in d:\\ai\\object detection\\tfodcourse\\objectdet1\\lib\\site-packages (from opencv-python) (1.23.1)\n",
      "\n",
      "[notice] A new release of pip available: 22.1.2 -> 22.2.1\n",
      "[notice] To update, run: python.exe -m pip install --upgrade pip\n"
     ]
    }
   ],
   "source": [
    "!pip install opencv-python"
   ]
  },
  {
   "cell_type": "code",
   "execution_count": 2,
   "metadata": {},
   "outputs": [],
   "source": [
    "# Import opencv\n",
    "import cv2 \n",
    "\n",
    "# Import uuid\n",
    "import uuid\n",
    "\n",
    "# Import Operating System\n",
    "import os\n",
    "\n",
    "# Import time\n",
    "import time"
   ]
  },
  {
   "cell_type": "markdown",
   "metadata": {},
   "source": [
    "# 2. Define Images to Collect"
   ]
  },
  {
   "cell_type": "code",
   "execution_count": 23,
   "metadata": {},
   "outputs": [],
   "source": [
    "labels = ['ultrasonic','irSensor', 'led', 'buzzer']  #4 classes/labels\n",
    "number_imgs = 5   # Number of images per each classes"
   ]
  },
  {
   "cell_type": "code",
   "execution_count": 11,
   "metadata": {},
   "outputs": [
    {
     "data": {
      "text/plain": [
       "['thumbsup']"
      ]
     },
     "execution_count": 11,
     "metadata": {},
     "output_type": "execute_result"
    }
   ],
   "source": [
    "#labels to see the labels aviliable Egg:led"
   ]
  },
  {
   "cell_type": "markdown",
   "metadata": {},
   "source": [
    "# 3. Setup Folders "
   ]
  },
  {
   "cell_type": "code",
   "execution_count": 24,
   "metadata": {},
   "outputs": [],
   "source": [
    "IMAGES_PATH = os.path.join('Tensorflow', 'workspace', 'images', 'collectedimages')   #creat a directory called collectedImages"
   ]
  },
  {
   "cell_type": "code",
   "execution_count": 25,
   "metadata": {},
   "outputs": [],
   "source": [
    "if not os.path.exists(IMAGES_PATH):\n",
    "    if os.name == 'posix':\n",
    "        !mkdir -p {IMAGES_PATH}\n",
    "    if os.name == 'nt':\n",
    "         !mkdir {IMAGES_PATH}\n",
    "for label in labels:\n",
    "    path = os.path.join(IMAGES_PATH, label)\n",
    "    if not os.path.exists(path):\n",
    "        !mkdir {path}\n",
    "#Now the directory stated in the above cell is created; check:Tensorflow/workspace/images/collectedimages"
   ]
  },
  {
   "cell_type": "markdown",
   "metadata": {},
   "source": [
    "# 4. Capture Images"
   ]
  },
  {
   "cell_type": "code",
   "execution_count": 26,
   "metadata": {},
   "outputs": [
    {
     "name": "stdout",
     "output_type": "stream",
     "text": [
      "Collecting images for ultrasonic\n",
      "Collecting image 0\n",
      "Collecting image 1\n",
      "Collecting image 2\n",
      "Collecting image 3\n",
      "Collecting image 4\n",
      "Collecting image 5\n",
      "Collecting image 6\n"
     ]
    }
   ],
   "source": [
    "for label in labels:\n",
    "    cap = cv2.VideoCapture(0)\n",
    "    print('Collecting images for {}'.format(label))\n",
    "    time.sleep(5)\n",
    "    for imgnum in range(number_imgs):\n",
    "        print('Collecting image {}'.format(imgnum))\n",
    "        ret, frame = cap.read()\n",
    "        imgname = os.path.join(IMAGES_PATH,label,label+'.'+'{}.jpg'.format(str(uuid.uuid1())))\n",
    "        cv2.imwrite(imgname, frame)\n",
    "        cv2.imshow('frame', frame)\n",
    "        time.sleep(4)\n",
    "\n",
    "        if cv2.waitKey(1) & 0xFF == ord('q'):\n",
    "            break\n",
    "cap.release()\n",
    "cv2.destroyAllWindows()"
   ]
  },
  {
   "cell_type": "markdown",
   "metadata": {},
   "source": [
    "# 5. Image Labelling"
   ]
  },
  {
   "cell_type": "code",
   "execution_count": 13,
   "metadata": {},
   "outputs": [
    {
     "name": "stdout",
     "output_type": "stream",
     "text": [
      "Collecting pyqt5\n",
      "  Downloading PyQt5-5.15.7-cp37-abi3-win_amd64.whl (6.8 MB)\n",
      "     ---------------------------------------- 6.8/6.8 MB 103.9 kB/s eta 0:00:00\n",
      "Collecting lxml\n",
      "  Downloading lxml-4.9.1-cp39-cp39-win_amd64.whl (3.6 MB)\n",
      "     ---------------------------------------- 3.6/3.6 MB 153.0 kB/s eta 0:00:00\n",
      "Collecting PyQt5-Qt5>=5.15.0\n",
      "  Downloading PyQt5_Qt5-5.15.2-py3-none-win_amd64.whl (50.1 MB)\n",
      "     -------------------------------------- 50.1/50.1 MB 174.2 kB/s eta 0:00:00\n",
      "Collecting PyQt5-sip<13,>=12.11\n",
      "  Downloading PyQt5_sip-12.11.0-cp39-cp39-win_amd64.whl (78 kB)\n",
      "     -------------------------------------- 78.3/78.3 kB 217.5 kB/s eta 0:00:00\n",
      "Installing collected packages: PyQt5-Qt5, PyQt5-sip, lxml, pyqt5\n",
      "Successfully installed PyQt5-Qt5-5.15.2 PyQt5-sip-12.11.0 lxml-4.9.1 pyqt5-5.15.7\n"
     ]
    }
   ],
   "source": [
    "!pip install --upgrade pyqt5 lxml"
   ]
  },
  {
   "cell_type": "code",
   "execution_count": 27,
   "metadata": {},
   "outputs": [],
   "source": [
    "LABELIMG_PATH = os.path.join('Tensorflow', 'labelimg')"
   ]
  },
  {
   "cell_type": "code",
   "execution_count": 15,
   "metadata": {},
   "outputs": [
    {
     "name": "stderr",
     "output_type": "stream",
     "text": [
      "Cloning into 'Tensorflow\\labelimg'...\n",
      "Updating files:  99% (114/115)\n",
      "Updating files: 100% (115/115)\n",
      "Updating files: 100% (115/115), done.\n"
     ]
    }
   ],
   "source": [
    "if not os.path.exists(LABELIMG_PATH):\n",
    "    !mkdir {LABELIMG_PATH}\n",
    "    !git clone https://github.com/tzutalin/labelImg {LABELIMG_PATH}"
   ]
  },
  {
   "cell_type": "code",
   "execution_count": 28,
   "metadata": {},
   "outputs": [],
   "source": [
    "if os.name == 'posix':\n",
    "    !cd {LABELIMG_PATH} && make qt5py3\n",
    "if os.name =='nt':\n",
    "    !cd {LABELIMG_PATH} && pyrcc5 -o libs/resources.py resources.qrc"
   ]
  },
  {
   "cell_type": "code",
   "execution_count": 29,
   "metadata": {},
   "outputs": [
    {
     "name": "stdout",
     "output_type": "stream",
     "text": [
      "Image:D:\\AI\\Electronic detection\\files\\Tensorflow\\workspace\\images\\collectedimages\\ultrasonic\\ultrasonic.3ba15e06-11ab-11ed-a55a-5065f3bbc8b2.jpg -> Annotation:D:/AI/Electronic detection/files/Tensorflow/workspace/images/collectedimages/ultrasonic\\ultrasonic.3ba15e06-11ab-11ed-a55a-5065f3bbc8b2.xml\n",
      "Image:D:\\AI\\Electronic detection\\files\\Tensorflow\\workspace\\images\\collectedimages\\ultrasonic\\ultrasonic.36cdac6c-11ab-11ed-bbc1-5065f3bbc8b2.jpg -> Annotation:D:/AI/Electronic detection/files/Tensorflow/workspace/images/collectedimages/ultrasonic\\ultrasonic.36cdac6c-11ab-11ed-bbc1-5065f3bbc8b2.xml\n",
      "Image:D:\\AI\\Electronic detection\\files\\Tensorflow\\workspace\\images\\collectedimages\\ultrasonic\\ultrasonic.42d42d63-11ab-11ed-b3b8-5065f3bbc8b2.jpg -> Annotation:D:/AI/Electronic detection/files/Tensorflow/workspace/images/collectedimages/ultrasonic\\ultrasonic.42d42d63-11ab-11ed-b3b8-5065f3bbc8b2.xml\n",
      "Image:D:\\AI\\Electronic detection\\files\\Tensorflow\\workspace\\images\\collectedimages\\ultrasonic\\ultrasonic.3939a641-11ab-11ed-a496-5065f3bbc8b2.jpg -> Annotation:D:/AI/Electronic detection/files/Tensorflow/workspace/images/collectedimages/ultrasonic\\ultrasonic.3939a641-11ab-11ed-a496-5065f3bbc8b2.xml\n",
      "Image:D:\\AI\\Electronic detection\\files\\Tensorflow\\workspace\\images\\collectedimages\\ultrasonic\\ultrasonic.453989f7-11ab-11ed-abf3-5065f3bbc8b2.jpg -> Annotation:D:/AI/Electronic detection/files/Tensorflow/workspace/images/collectedimages/ultrasonic\\ultrasonic.453989f7-11ab-11ed-abf3-5065f3bbc8b2.xml\n",
      "Image:D:\\AI\\Electronic detection\\files\\Tensorflow\\workspace\\images\\collectedimages\\led\\led.2fca41f9-11a6-11ed-b484-5065f3bbc8b2.jpg -> Annotation:D:/AI/Electronic detection/files/Tensorflow/workspace/images/collectedimages/led\\led.2fca41f9-11a6-11ed-b484-5065f3bbc8b2.xml\n",
      "Image:D:\\AI\\Electronic detection\\files\\Tensorflow\\workspace\\images\\collectedimages\\led\\led.3233f3f7-11a6-11ed-ad40-5065f3bbc8b2.jpg -> Annotation:D:/AI/Electronic detection/files/Tensorflow/workspace/images/collectedimages/led\\led.3233f3f7-11a6-11ed-ad40-5065f3bbc8b2.xml\n",
      "Image:D:\\AI\\Electronic detection\\files\\Tensorflow\\workspace\\images\\collectedimages\\led\\led.3499fe6f-11a6-11ed-ab72-5065f3bbc8b2.jpg -> Annotation:D:/AI/Electronic detection/files/Tensorflow/workspace/images/collectedimages/led\\led.3499fe6f-11a6-11ed-ab72-5065f3bbc8b2.xml\n",
      "Image:D:\\AI\\Electronic detection\\files\\Tensorflow\\workspace\\images\\collectedimages\\led\\led.3700def3-11a6-11ed-9b8c-5065f3bbc8b2.jpg -> Annotation:D:/AI/Electronic detection/files/Tensorflow/workspace/images/collectedimages/led\\led.3700def3-11a6-11ed-9b8c-5065f3bbc8b2.xml\n",
      "Image:D:\\AI\\Electronic detection\\files\\Tensorflow\\workspace\\images\\collectedimages\\led\\led.39679cb6-11a6-11ed-8ca5-5065f3bbc8b2.jpg -> Annotation:D:/AI/Electronic detection/files/Tensorflow/workspace/images/collectedimages/led\\led.39679cb6-11a6-11ed-8ca5-5065f3bbc8b2.xml\n",
      "Image:D:\\AI\\Electronic detection\\files\\Tensorflow\\workspace\\images\\collectedimages\\irSensor\\irSensor.2a563d4d-11a6-11ed-a60f-5065f3bbc8b2.jpg -> Annotation:D:/AI/Electronic detection/files/Tensorflow/workspace/images/collectedimages/irSensor\\irSensor.2a563d4d-11a6-11ed-a60f-5065f3bbc8b2.xml\n",
      "Image:D:\\AI\\Electronic detection\\files\\Tensorflow\\workspace\\images\\collectedimages\\irSensor\\irSensor.20b57cfd-11a6-11ed-b009-5065f3bbc8b2.jpg -> Annotation:D:/AI/Electronic detection/files/Tensorflow/workspace/images/collectedimages/irSensor\\irSensor.20b57cfd-11a6-11ed-b009-5065f3bbc8b2.xml\n",
      "Image:D:\\AI\\Electronic detection\\files\\Tensorflow\\workspace\\images\\collectedimages\\irSensor\\irSensor.27ecfbb8-11a6-11ed-b9b3-5065f3bbc8b2.jpg -> Annotation:D:/AI/Electronic detection/files/Tensorflow/workspace/images/collectedimages/irSensor\\irSensor.27ecfbb8-11a6-11ed-b9b3-5065f3bbc8b2.xml\n",
      "Image:D:\\AI\\Electronic detection\\files\\Tensorflow\\workspace\\images\\collectedimages\\irSensor\\irSensor.231c811c-11a6-11ed-a9bd-5065f3bbc8b2.jpg -> Annotation:D:/AI/Electronic detection/files/Tensorflow/workspace/images/collectedimages/irSensor\\irSensor.231c811c-11a6-11ed-a9bd-5065f3bbc8b2.xml\n",
      "Image:D:\\AI\\Electronic detection\\files\\Tensorflow\\workspace\\images\\collectedimages\\irSensor\\irSensor.25869468-11a6-11ed-b26c-5065f3bbc8b2.jpg -> Annotation:D:/AI/Electronic detection/files/Tensorflow/workspace/images/collectedimages/irSensor\\irSensor.25869468-11a6-11ed-b26c-5065f3bbc8b2.xml\n",
      "Image:D:\\AI\\Electronic detection\\files\\Tensorflow\\workspace\\images\\collectedimages\\buzzer\\buzzer.3ed6b8be-11a6-11ed-9be9-5065f3bbc8b2.jpg -> Annotation:D:/AI/Electronic detection/files/Tensorflow/workspace/images/collectedimages/buzzer\\buzzer.3ed6b8be-11a6-11ed-9be9-5065f3bbc8b2.xml\n",
      "Image:D:\\AI\\Electronic detection\\files\\Tensorflow\\workspace\\images\\collectedimages\\buzzer\\buzzer.4610c926-11a6-11ed-92db-5065f3bbc8b2.jpg -> Annotation:D:/AI/Electronic detection/files/Tensorflow/workspace/images/collectedimages/buzzer\\buzzer.4610c926-11a6-11ed-92db-5065f3bbc8b2.xml\n",
      "Image:D:\\AI\\Electronic detection\\files\\Tensorflow\\workspace\\images\\collectedimages\\buzzer\\buzzer.3ed6b8be-11a6-11ed-9be9-5065f3bbc8b2.jpg -> Annotation:D:/AI/Electronic detection/files/Tensorflow/workspace/images/collectedimages/buzzer\\buzzer.3ed6b8be-11a6-11ed-9be9-5065f3bbc8b2.xml\n",
      "Image:D:\\AI\\Electronic detection\\files\\Tensorflow\\workspace\\images\\collectedimages\\buzzer\\buzzer.414037dd-11a6-11ed-a084-5065f3bbc8b2.jpg -> Annotation:D:/AI/Electronic detection/files/Tensorflow/workspace/images/collectedimages/buzzer\\buzzer.414037dd-11a6-11ed-a084-5065f3bbc8b2.xml\n",
      "Image:D:\\AI\\Electronic detection\\files\\Tensorflow\\workspace\\images\\collectedimages\\buzzer\\buzzer.487853d1-11a6-11ed-b325-5065f3bbc8b2.jpg -> Annotation:D:/AI/Electronic detection/files/Tensorflow/workspace/images/collectedimages/buzzer\\buzzer.487853d1-11a6-11ed-b325-5065f3bbc8b2.xml\n",
      "Image:D:\\AI\\Electronic detection\\files\\Tensorflow\\workspace\\images\\collectedimages\\buzzer\\buzzer.e6b6e929-11a8-11ed-8a57-5065f3bbc8b2.jpg -> Annotation:D:/AI/Electronic detection/files/Tensorflow/workspace/images/collectedimages/buzzer\\buzzer.e6b6e929-11a8-11ed-8a57-5065f3bbc8b2.xml\n"
     ]
    }
   ],
   "source": [
    "!cd {LABELIMG_PATH} && python labelImg.py"
   ]
  },
  {
   "cell_type": "markdown",
   "metadata": {},
   "source": [
    "# 6. Move them into a Training and Testing Partition"
   ]
  },
  {
   "cell_type": "markdown",
   "metadata": {},
   "source": [
    "# OPTIONAL - 7. Compress them for Colab Training"
   ]
  },
  {
   "cell_type": "code",
   "execution_count": 3,
   "metadata": {},
   "outputs": [],
   "source": [
    "TRAIN_PATH = os.path.join('Tensorflow', 'workspace', 'images', 'train')\n",
    "TEST_PATH = os.path.join('Tensorflow', 'workspace', 'images', 'test')\n",
    "ARCHIVE_PATH = os.path.join('Tensorflow', 'workspace', 'images', 'archive.tar.gz')"
   ]
  },
  {
   "cell_type": "code",
   "execution_count": 4,
   "metadata": {},
   "outputs": [],
   "source": [
    "!tar -czf {ARCHIVE_PATH} {TRAIN_PATH} {TEST_PATH}"
   ]
  },
  {
   "cell_type": "code",
   "execution_count": null,
   "metadata": {},
   "outputs": [],
   "source": []
  }
 ],
 "metadata": {
  "kernelspec": {
   "display_name": "objectDet1",
   "language": "python",
   "name": "objectdet1"
  },
  "language_info": {
   "codemirror_mode": {
    "name": "ipython",
    "version": 3
   },
   "file_extension": ".py",
   "mimetype": "text/x-python",
   "name": "python",
   "nbconvert_exporter": "python",
   "pygments_lexer": "ipython3",
   "version": "3.9.10"
  }
 },
 "nbformat": 4,
 "nbformat_minor": 2
}
